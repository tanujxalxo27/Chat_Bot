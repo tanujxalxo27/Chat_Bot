{
  "nbformat": 4,
  "nbformat_minor": 0,
  "metadata": {
    "colab": {
      "provenance": []
    },
    "kernelspec": {
      "name": "python3",
      "display_name": "Python 3"
    },
    "language_info": {
      "name": "python"
    }
  },
  "cells": [
    {
      "cell_type": "code",
      "execution_count": null,
      "metadata": {
        "id": "hXMaCaPmP4ub"
      },
      "outputs": [],
      "source": [
        "import re\n",
        "import random"
      ]
    },
    {
      "cell_type": "code",
      "source": [
        "\n",
        "\n",
        "class RuleBot:\n",
        "    negative_responses = (\"no\", \"nope\", \"nah\", \"naw\", \"not a chance\", \"sorry\")\n",
        "    exit_commands = (\"quit\", \"pause\", \"exit\", \"goodbye\", \"bye\", \"later\")\n",
        "    random_questions = (\n",
        "        \"Why are you here\",\n",
        "        \"Are there many humans like you\",\n",
        "        \"What do you consume for sustenance?\",\n",
        "        \"Is there intelligent life on this planet?\",\n",
        "        \"Does Earth have a leader?\",\n",
        "        \"What planets have you visited?\",\n",
        "        \"What technology do you have on this planet?\"\n",
        "    )\n",
        "\n",
        "    def __init__(self):\n",
        "        self.alienbabble = {\n",
        "            'describe_planet_intent': r'.*\\s*your planet.*',\n",
        "            'answer_why_intent': r'why\\sare.*',\n",
        "            'about_intellipat': r'.*\\s*intellipat',\n",
        "            'about_session': r'.*\\s*session'\n",
        "        }\n",
        "\n",
        "    def greet(self):\n",
        "        self.name = input(\"What is your name?\\n\")\n",
        "        will_help = input(\n",
        "            f\"Hi {self.name}, I am Rule Bot. Will you help me learn about your planet?\\n\")\n",
        "        if will_help in self.negative_responses:\n",
        "            print(\"Ok, have a nice Earth Day!\")\n",
        "            return\n",
        "        self.chat()\n",
        "\n",
        "    def make_exit(self, reply):\n",
        "        for command in self.exit_commands:\n",
        "            if reply == command:\n",
        "                print(\"Okay, have a nice Earth day!\")\n",
        "                return True\n",
        "\n",
        "    def chat(self):\n",
        "        reply = input(random.choice(self.random_questions)).lower()\n",
        "        while not self.make_exit(reply):\n",
        "            reply = input(self.match_reply(reply))\n",
        "\n",
        "    def match_reply(self, reply):\n",
        "        for key, value in self.alienbabble.items():\n",
        "            intent = key\n",
        "            regex_pattern = value\n",
        "            found_match = re.match(regex_pattern, reply)\n",
        "            if found_match and intent == 'describe_planet_intent':\n",
        "                return self.describe_planet_intent()\n",
        "            elif found_match and intent == 'answer_why_intent':\n",
        "                return self.answer_why_intent()\n",
        "            elif found_match and intent == 'about_intellipat':\n",
        "                return self.about_intellipat()\n",
        "            elif found_match and intent == 'about_session':\n",
        "                return self.about_session()\n",
        "        if not found_match:\n",
        "            return self.no_match_intent()\n",
        "\n",
        "    def describe_planet_intent(self):\n",
        "        responses = [\"My planet is a utopia of diverse organisms and species.\",\n",
        "                     \"I am from Opidipus, the capital of the Wayward Galaxies.\"]\n",
        "        return random.choice(responses)\n",
        "\n",
        "    def answer_why_intent(self):\n",
        "        responses = [\"I come in peace.\", \"I am here to collect data on your planet and its inhabitants.\",\n",
        "                     \"I heard the coffee is good.\"]\n",
        "        return random.choice(responses)\n",
        "\n",
        "    def about_intellipat(self):\n",
        "        responses = [\"Intellipaat is the world's largest professional educational company.\",\n",
        "                     \"Intellipaat will help you learn concepts in a way like never before.\",\n",
        "                     \"Intellipaat is where your career and skills grow.\"]\n",
        "        return random.choice(responses)\n",
        "\n",
        "    def about_session(self):\n",
        "        responses = [\"Session is on 14th Aug 2022 \\n\",\"session was Cool!!\\n\"]\n",
        "        return random.choice(responses)\n",
        "\n",
        "\n",
        "    def no_match_intent(self):\n",
        "        responses = [\n",
        "            \"Please tell me more.\",\n",
        "            \"Tell me more!\",\n",
        "            \"Why do you say that?\",\n",
        "            \"I see. Can you elaborate?\",\n",
        "            \"Interesting. Can you tell me more?\",\n",
        "            \"I see. How do you think?\",\n",
        "            \"Why?\",\n",
        "            \"How do you think I feel when you say that?\"\n",
        "        ]\n",
        "        return random.choice(responses)\n",
        "\n",
        "AlienBot = RuleBot()\n",
        "AlienBot.greet()\n"
      ],
      "metadata": {
        "id": "boKN3AXIQCBi",
        "colab": {
          "base_uri": "https://localhost:8080/"
        },
        "outputId": "88e333ac-be80-47ee-8a01-eb639d911853"
      },
      "execution_count": null,
      "outputs": [
        {
          "output_type": "stream",
          "name": "stdout",
          "text": [
            "session was Cool!!\n",
            "exit\n",
            "Okay, have a nice Earth day!\n"
          ]
        }
      ]
    },
    {
      "cell_type": "code",
      "source": [],
      "metadata": {
        "id": "ipz_DHxCsczg"
      },
      "execution_count": null,
      "outputs": []
    }
  ]
}